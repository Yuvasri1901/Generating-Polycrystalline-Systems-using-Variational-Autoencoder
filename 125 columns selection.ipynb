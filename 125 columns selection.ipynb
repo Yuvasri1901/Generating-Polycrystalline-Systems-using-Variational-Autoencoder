{
 "cells": [
  {
   "cell_type": "code",
   "execution_count": 1,
   "id": "dc713379",
   "metadata": {},
   "outputs": [],
   "source": [
    "import pandas as pd\n",
    "import numpy as np\n",
    "\n",
    "# Read the pixel values from the Excel sheet\n",
    "excel_file = 'combine_imagef_78_8p.xlsx'\n",
    "df = pd.read_excel(excel_file, sheet_name='combine_imagef_78_8p')\n",
    "\n",
    "# Convert the pixel values to a NumPy array\n",
    "pixel_values = df.values\n",
    "\n",
    "# Get the dimensions of the pixel values array\n",
    "num_rows, num_cols = pixel_values.shape\n",
    "\n",
    "# Create an empty array for shuffled pixel values\n",
    "shuffled_pixels = np.empty_like(pixel_values)\n",
    "\n",
    "# Shuffle each row individually\n",
    "for i in range(num_rows):\n",
    "    row = pixel_values[i]\n",
    "    np.random.shuffle(row)\n",
    "    shuffled_pixels[i] = row\n",
    "\n",
    "# Create a new DataFrame with the shuffled pixel values\n",
    "shuffled_df = pd.DataFrame(shuffled_pixels)\n",
    "\n",
    "# Write the shuffled pixel values back to a new Excel sheet\n",
    "shuffled_excel_file = 'shuffled_excelf78.xlsx'\n",
    "shuffled_df.to_excel(shuffled_excel_file, index=False)\n"
   ]
  },
  {
   "cell_type": "code",
   "execution_count": 4,
   "id": "cb95060e",
   "metadata": {},
   "outputs": [
    {
     "ename": "ValueError",
     "evalue": "could not broadcast input array from shape (0,) into shape (3125,)",
     "output_type": "error",
     "traceback": [
      "\u001b[1;31m---------------------------------------------------------------------------\u001b[0m",
      "\u001b[1;31mValueError\u001b[0m                                Traceback (most recent call last)",
      "Cell \u001b[1;32mIn[4], line 28\u001b[0m\n\u001b[0;32m     26\u001b[0m         start_col \u001b[38;5;241m=\u001b[39m j \u001b[38;5;241m*\u001b[39m \u001b[38;5;241m3125\u001b[39m\n\u001b[0;32m     27\u001b[0m         end_col \u001b[38;5;241m=\u001b[39m (j \u001b[38;5;241m+\u001b[39m \u001b[38;5;241m1\u001b[39m) \u001b[38;5;241m*\u001b[39m \u001b[38;5;241m3125\u001b[39m\n\u001b[1;32m---> 28\u001b[0m         rearranged_pixels[i \u001b[38;5;241m*\u001b[39m groups_per_row \u001b[38;5;241m+\u001b[39m j] \u001b[38;5;241m=\u001b[39m pixel_values[i, start_col:end_col]\n\u001b[0;32m     30\u001b[0m \u001b[38;5;66;03m# Create a new DataFrame with the rearranged pixel values\u001b[39;00m\n\u001b[0;32m     31\u001b[0m rearranged_df \u001b[38;5;241m=\u001b[39m pd\u001b[38;5;241m.\u001b[39mDataFrame(rearranged_pixels)\n",
      "\u001b[1;31mValueError\u001b[0m: could not broadcast input array from shape (0,) into shape (3125,)"
     ]
    }
   ],
   "source": [
    "import pandas as pd\n",
    "import numpy as np\n",
    "\n",
    "# Read the pixel values from the Excel sheet\n",
    "excel_file = 'combine_imagef_78_8p.xlsx'\n",
    "df = pd.read_excel(excel_file, sheet_name='combine_imagef_78_8p')\n",
    "\n",
    "# Convert the pixel values to a NumPy array\n",
    "pixel_values = df.values\n",
    "\n",
    "# Get the dimensions of the pixel values array\n",
    "num_rows, num_cols = pixel_values.shape\n",
    "\n",
    "# Calculate the number of groups per row\n",
    "groups_per_row = num_cols // 3125*5\n",
    "\n",
    "# Calculate the number of rows needed to rearrange the groups\n",
    "new_num_rows = num_rows * groups_per_row\n",
    "\n",
    "# Create an empty array for rearranged pixel values\n",
    "rearranged_pixels = np.empty((new_num_rows, 3125))\n",
    "\n",
    "# Rearrange the pixel values\n",
    "for i in range(num_rows):\n",
    "    for j in range(groups_per_row):\n",
    "        start_col = j * 3125\n",
    "        end_col = (j + 1) * 3125\n",
    "        rearranged_pixels[i * groups_per_row + j] = pixel_values[i, start_col:end_col]\n",
    "\n",
    "# Create a new DataFrame with the rearranged pixel values\n",
    "rearranged_df = pd.DataFrame(rearranged_pixels)\n",
    "\n",
    "# Write the rearranged pixel values back to a new Excel sheet\n",
    "rearranged_excel_file = 'rearranged_excelf78.xlsx'\n",
    "rearranged_df.to_excel(rearranged_excel_file, index=False)\n"
   ]
  },
  {
   "cell_type": "code",
   "execution_count": 1,
   "id": "f8086445",
   "metadata": {},
   "outputs": [],
   "source": [
    "import pandas as pd\n",
    "\n",
    "# Load the Excel file\n",
    "excel_file = 'combine_imagef_78_8p.xlsx'\n",
    "sheet_name = 'combine_imagef_78_8p'\n",
    "df = pd.read_excel(excel_file, sheet_name=sheet_name)\n",
    "\n",
    "# Extract the grouped section (5 rows by 3125 columns)\n",
    "grouped_section = df.iloc[:5, :3125]\n",
    "\n",
    "# Remove the grouped section from the original DataFrame\n",
    "df = df.iloc[5:, :]\n",
    "\n",
    "# Insert the grouped section at the desired position\n",
    "insert_row = 20  # Specify the row index where you want to insert the grouped section\n",
    "df = pd.concat([df.iloc[:insert_row, :], grouped_section, df.iloc[insert_row:, :]], axis=0)\n",
    "\n",
    "# Save the modified DataFrame to a new Excel file\n",
    "modified_excel_file = 'modified_combine_imagef_78_8p.xlsx'\n",
    "df.to_excel(modified_excel_file, sheet_name=sheet_name, index=False)\n"
   ]
  },
  {
   "cell_type": "code",
   "execution_count": null,
   "id": "071cd193",
   "metadata": {},
   "outputs": [],
   "source": []
  }
 ],
 "metadata": {
  "kernelspec": {
   "display_name": "Python 3 (ipykernel)",
   "language": "python",
   "name": "python3"
  },
  "language_info": {
   "codemirror_mode": {
    "name": "ipython",
    "version": 3
   },
   "file_extension": ".py",
   "mimetype": "text/x-python",
   "name": "python",
   "nbconvert_exporter": "python",
   "pygments_lexer": "ipython3",
   "version": "3.10.9"
  }
 },
 "nbformat": 4,
 "nbformat_minor": 5
}

{
 "cells": [
  {
   "cell_type": "code",
   "execution_count": 4,
   "id": "c2fff159",
   "metadata": {},
   "outputs": [],
   "source": [
    "import pandas as pd\n",
    "import numpy as np\n",
    "\n",
    "# Read the pixel values from the Excel sheet\n",
    "excel_file = 'combine_imagef_78_8p.xlsx'\n",
    "df = pd.read_excel(excel_file, sheet_name='combine_imagef_78_8p')\n",
    "\n",
    "# Convert the pixel values to a NumPy array\n",
    "pixel_values = df.values\n",
    "\n",
    "# Get the dimensions of the pixel values array\n",
    "num_rows, num_cols = pixel_values.shape\n",
    "\n",
    "# Reshape the pixel values array to match the original image dimensions\n",
    "pixel_values = pixel_values.reshape(num_rows, num_cols)\n",
    "\n",
    "# Flatten the pixel values array to simplify shuffling\n",
    "flattened_pixels = pixel_values.flatten()\n",
    "\n",
    "# Shuffle the flattened pixel values array\n",
    "np.random.shuffle(flattened_pixels)\n",
    "\n",
    "# Reshape the shuffled pixel values array back to the original dimensions\n",
    "shuffled_pixels = flattened_pixels.reshape(num_rows, num_cols)\n",
    "\n",
    "# Create a new DataFrame with the shuffled pixel values\n",
    "shuffled_df = pd.DataFrame(shuffled_pixels)\n",
    "\n",
    "# Write the shuffled pixel values back to a new Excel sheet\n",
    "shuffled_excel_file = 'shuffled_excelf78_8p.xlsx'\n",
    "shuffled_df.to_excel(shuffled_excel_file, index=False)\n"
   ]
  },
  {
   "cell_type": "code",
   "execution_count": null,
   "id": "8b9520d6",
   "metadata": {},
   "outputs": [],
   "source": []
  }
 ],
 "metadata": {
  "kernelspec": {
   "display_name": "Python 3 (ipykernel)",
   "language": "python",
   "name": "python3"
  },
  "language_info": {
   "codemirror_mode": {
    "name": "ipython",
    "version": 3
   },
   "file_extension": ".py",
   "mimetype": "text/x-python",
   "name": "python",
   "nbconvert_exporter": "python",
   "pygments_lexer": "ipython3",
   "version": "3.10.9"
  }
 },
 "nbformat": 4,
 "nbformat_minor": 5
}

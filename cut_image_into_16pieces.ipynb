{
 "cells": [
  {
   "cell_type": "code",
   "execution_count": 6,
   "id": "2379bd40",
   "metadata": {},
   "outputs": [],
   "source": [
    "from PIL import Image\n",
    "import os\n",
    "\n",
    "def cut_image(image_path):\n",
    "    image = Image.open(image_path)\n",
    "    width, height = image.size\n",
    "    piece_width = width // 4  # Divide the image into 2 pieces horizontally\n",
    "    piece_height = height // 4  # Divide the image into 4 pieces vertically\n",
    "\n",
    "    pieces = []\n",
    "    for i in range(4):\n",
    "        for j in range(4):\n",
    "            left = j * piece_width\n",
    "            upper = i * piece_height\n",
    "            right = (j + 1) * piece_width\n",
    "            lower = (i + 1) * piece_height\n",
    "            piece = image.crop((left, upper, right, lower))\n",
    "            pieces.append(piece)\n",
    "\n",
    "    return pieces\n",
    "#cut all images into 8 pieces containing in a single folder\n",
    "# Example usage\n",
    "folder_path = \"image_files\"\n",
    "old_image_prefix = \"imagef78_\"\n",
    "new_image_prefix = \"cut_imagef78_\"\n",
    "num_images = 22\n",
    "num_pieces = 16\n",
    "\n",
    "for i in range(1, num_images + 1):\n",
    "    image_name = f\"{old_image_prefix}{i}.jpg\"\n",
    "    image_path = os.path.join(folder_path, image_name)\n",
    "    pieces = cut_image(image_path)\n",
    "    for j, piece in enumerate(pieces):\n",
    "        piece_number = (i - 1) * num_pieces + j + 1\n",
    "        piece_name = f\"{new_image_prefix}{piece_number}.jpg\"\n",
    "        piece_path = os.path.join(folder_path, piece_name)\n",
    "        piece.save(piece_path)\n"
   ]
  }
 ],
 "metadata": {
  "kernelspec": {
   "display_name": "Python 3 (ipykernel)",
   "language": "python",
   "name": "python3"
  },
  "language_info": {
   "codemirror_mode": {
    "name": "ipython",
    "version": 3
   },
   "file_extension": ".py",
   "mimetype": "text/x-python",
   "name": "python",
   "nbconvert_exporter": "python",
   "pygments_lexer": "ipython3",
   "version": "3.10.9"
  }
 },
 "nbformat": 4,
 "nbformat_minor": 5
}
